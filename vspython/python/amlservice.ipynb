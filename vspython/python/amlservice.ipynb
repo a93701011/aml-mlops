{
 "cells": [
  {
   "cell_type": "code",
   "execution_count": null,
   "metadata": {},
   "outputs": [],
   "source": []
  },
  {
   "cell_type": "code",
   "execution_count": 3,
   "metadata": {},
   "outputs": [
    {
     "name": "stdout",
     "output_type": "stream",
     "text": [
      "b'[174.84138824866918]'\n"
     ]
    }
   ],
   "source": [
    "import urllib.request\n",
    "import json\n",
    "import os\n",
    "import ssl\n",
    "\n",
    "def allowSelfSignedHttps(allowed):\n",
    "    # bypass the server certificate verification on client side\n",
    "    if allowed and not os.environ.get('PYTHONHTTPSVERIFY', '') and getattr(ssl, '_create_unverified_context', None):\n",
    "        ssl._create_default_https_context = ssl._create_unverified_context\n",
    "\n",
    "allowSelfSignedHttps(True) # this line is needed if you use self-signed certificate in your scoring service.\n",
    "\n",
    "# Request data goes here\n",
    "data = {\n",
    "    \"data\":\n",
    "    [\n",
    "        {\n",
    "            \"host_total_listings_count\": \"1.0\",\n",
    "            \"neighbourhood_cleansed\": \"0\",\n",
    "            \"zipcode\": \"0\",\n",
    "            \"latitude\": \"37.76931\",\n",
    "            \"longitude\": \"-122.433856\",\n",
    "            \"property_type\": \"0\",\n",
    "            \"room_type\": \"0\",\n",
    "            \"accommodates\": \"3.0\",\n",
    "            \"bathrooms\": \"1.0\",\n",
    "            \"bedrooms\": \"1.0\",\n",
    "            \"beds\": \"2.0\",\n",
    "            \"bed_type\": \"0\",\n",
    "            \"minimum_nights\": \"1.0\",\n",
    "            \"number_of_reviews\": \"127.0\",\n",
    "            \"review_scores_rating\": \"97.0\",\n",
    "            \"review_scores_accuracy\": \"10.0\",\n",
    "            \"review_scores_cleanliness\": \"10.0\",\n",
    "            \"review_scores_checkin\": \"10.0\",\n",
    "            \"review_scores_communication\": \"10.0\",\n",
    "            \"review_scores_location\": \"10.0\",\n",
    "            \"review_scores_value\": \"10.0\"\n",
    "        }\n",
    "    ]\n",
    "}\n",
    "\n",
    "body = str.encode(json.dumps(data))\n",
    "\n",
    "url = 'http://localhost:8080/score'\n",
    "api_key = 'RC2LEITfmx5Uk9ayBY5us1XlZ9hEemH3' # Replace this with the API key for the web service\n",
    "headers = {'Content-Type':'application/json', 'Authorization':('Bearer '+ api_key)}\n",
    "\n",
    "req = urllib.request.Request(url, body, headers)\n",
    "\n",
    "try:\n",
    "    response = urllib.request.urlopen(req)\n",
    "\n",
    "    result = response.read()\n",
    "    print(result)\n",
    "except urllib.error.HTTPError as error:\n",
    "    print(\"The request failed with status code: \" + str(error.code))\n",
    "\n",
    "    # Print the headers - they include the requert ID and the timestamp, which are useful for debugging the failure\n",
    "    print(error.info())\n",
    "    print(error.read().decode(\"utf8\", 'ignore'))\n"
   ]
  },
  {
   "cell_type": "code",
   "execution_count": 5,
   "metadata": {},
   "outputs": [
    {
     "name": "stdout",
     "output_type": "stream",
     "text": [
      "b'[553.8020686307004, 251.53817252223828, 107.9737902202092, 210.17659939111954, 180.31891013002328, 122.1968543514743, 112.2737486610119, 227.2580438050431, 172.43578778605203, 96.2205907397554, 100.75311225764206, 388.13899099803893, 168.5406874936686, 221.63184444460768, 163.84697377975408, 119.35225707156313, 251.96035101742422, 141.1992512433076, 106.60488354309935, 122.30721867072312, 120.33066845660582, 166.91833113747683, 271.13147626076034, 87.13892918821925, 242.38507542766536, 291.3889152371571, 203.10752846794423, 171.83085306676824, 96.78908150744635, 173.92459200639988]'\n"
     ]
    }
   ],
   "source": [
    "import random\n",
    "import pandas as pd\n",
    "\n",
    "df = pd.read_csv('C:/Users/chiku/OneDrive - Microsoft/Workshop/21.Azure Machin Learning/workshop/data/airbnb-cleaned-mlflow.csv')\n",
    "\n",
    "start_row = random.randint(10,1000)\n",
    "end_row = start_row + 30\n",
    "test_df = df.loc[:, df.columns != 'price'][start_row:end_row]\n",
    "\n",
    "# Restful call to ACI model\n",
    "body = str.encode( json.dumps({\n",
    "    'data': test_df.values.tolist()\n",
    "}))\n",
    "\n",
    "url = 'http://localhost:8080/score'\n",
    "api_key = 'RC2LEITfmx5Uk9ayBY5us1XlZ9hEemH3' # Replace this with the API key for the web service\n",
    "headers = {'Content-Type':'application/json', 'Authorization':('Bearer '+ api_key)}\n",
    "\n",
    "req = urllib.request.Request(url, body, headers)\n",
    "\n",
    "try:\n",
    "    response = urllib.request.urlopen(req)\n",
    "\n",
    "    result = response.read()\n",
    "    print(result)\n",
    "except urllib.error.HTTPError as error:\n",
    "    print(\"The request failed with status code: \" + str(error.code))\n",
    "\n",
    "    # Print the headers - they include the requert ID and the timestamp, which are useful for debugging the failure\n",
    "    print(error.info())\n",
    "    print(error.read().decode(\"utf8\", 'ignore'))\n"
   ]
  }
 ],
 "metadata": {
  "interpreter": {
   "hash": "c778260fbac9bbb53e8df731b1de4f79a9b4f2f2e5804dd5e9976fe4bbbe12fe"
  },
  "kernelspec": {
   "display_name": "Python 3.9.2 64-bit",
   "language": "python",
   "name": "python3"
  },
  "language_info": {
   "codemirror_mode": {
    "name": "ipython",
    "version": 3
   },
   "file_extension": ".py",
   "mimetype": "text/x-python",
   "name": "python",
   "nbconvert_exporter": "python",
   "pygments_lexer": "ipython3",
   "version": "3.9.2"
  },
  "orig_nbformat": 4
 },
 "nbformat": 4,
 "nbformat_minor": 2
}
